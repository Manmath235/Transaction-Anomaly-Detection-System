{
 "cells": [
  {
   "cell_type": "code",
   "execution_count": 2,
   "id": "21a34dd9",
   "metadata": {
    "scrolled": true
   },
   "outputs": [
    {
     "name": "stdout",
     "output_type": "stream",
     "text": [
      "Requirement already satisfied: pandas in c:\\users\\lenovo\\anaconda3\\lib\\site-packages (2.1.4)\n",
      "Requirement already satisfied: openpyxl in c:\\users\\lenovo\\anaconda3\\lib\\site-packages (3.0.10)\n",
      "Requirement already satisfied: numpy<2,>=1.23.2 in c:\\users\\lenovo\\anaconda3\\lib\\site-packages (from pandas) (1.26.4)\n",
      "Requirement already satisfied: python-dateutil>=2.8.2 in c:\\users\\lenovo\\anaconda3\\lib\\site-packages (from pandas) (2.8.2)\n",
      "Requirement already satisfied: pytz>=2020.1 in c:\\users\\lenovo\\anaconda3\\lib\\site-packages (from pandas) (2023.3.post1)\n",
      "Requirement already satisfied: tzdata>=2022.1 in c:\\users\\lenovo\\anaconda3\\lib\\site-packages (from pandas) (2023.3)\n",
      "Requirement already satisfied: et_xmlfile in c:\\users\\lenovo\\anaconda3\\lib\\site-packages (from openpyxl) (1.1.0)\n",
      "Requirement already satisfied: six>=1.5 in c:\\users\\lenovo\\anaconda3\\lib\\site-packages (from python-dateutil>=2.8.2->pandas) (1.16.0)\n",
      "Note: you may need to restart the kernel to use updated packages.\n"
     ]
    }
   ],
   "source": [
    "pip install pandas openpyxl"
   ]
  },
  {
   "cell_type": "code",
   "execution_count": 90,
   "id": "fb2d6ba9",
   "metadata": {},
   "outputs": [],
   "source": [
    "import pandas as pd\n",
    "import matplotlib.pyplot as plt\n",
    "import numpy as np"
   ]
  },
  {
   "cell_type": "code",
   "execution_count": 74,
   "id": "59f19905",
   "metadata": {},
   "outputs": [],
   "source": [
    "file_path = \"C:/Users/Lenovo/Downloads/transactions_dataset.xlsx\""
   ]
  },
  {
   "cell_type": "code",
   "execution_count": 75,
   "id": "92fafbd8",
   "metadata": {},
   "outputs": [],
   "source": [
    "df = pd.read_excel(file_path)"
   ]
  },
  {
   "cell_type": "code",
   "execution_count": 76,
   "id": "5d774c27",
   "metadata": {},
   "outputs": [
    {
     "name": "stdout",
     "output_type": "stream",
     "text": [
      "  transaction_id user_id   amount payment_mode           timestamp  \\\n",
      "0       T0000001   U2604   273.09          UPI 2025-10-22 11:25:18   \n",
      "1       T0000002   U2369  1943.86          UPI 2025-03-05 18:31:37   \n",
      "2       T0000003   U4910  2777.23       Wallet 2025-01-15 15:58:36   \n",
      "3       T0000004   U4658   353.64       Wallet 2025-06-07 15:19:28   \n",
      "4       T0000005   U1188   336.38          UPI 2025-05-19 09:09:47   \n",
      "\n",
      "                 location device_type  is_fraud  \n",
      "0       Jaipur, Rajasthan      Mobile         0  \n",
      "1    Hyderabad, Telangana      Mobile         0  \n",
      "2       Pune, Maharashtra      Mobile         0  \n",
      "3  Indore, Madhya Pradesh      Mobile         0  \n",
      "4  Bhopal, Madhya Pradesh      Mobile         0  \n"
     ]
    }
   ],
   "source": [
    "print(df.head())"
   ]
  },
  {
   "cell_type": "code",
   "execution_count": 13,
   "id": "6facf719",
   "metadata": {},
   "outputs": [],
   "source": [
    "#How many total transactions happened?"
   ]
  },
  {
   "cell_type": "code",
   "execution_count": 77,
   "id": "6e468f7c",
   "metadata": {},
   "outputs": [
    {
     "name": "stdout",
     "output_type": "stream",
     "text": [
      "Total transactions: 200000\n"
     ]
    }
   ],
   "source": [
    "total_transactions = df.shape[0]\n",
    "print(f\"Total transactions: {total_transactions}\")"
   ]
  },
  {
   "cell_type": "code",
   "execution_count": 15,
   "id": "d2b80a3d",
   "metadata": {},
   "outputs": [],
   "source": [
    "#What is the total money processed?"
   ]
  },
  {
   "cell_type": "code",
   "execution_count": 78,
   "id": "dd112c43",
   "metadata": {},
   "outputs": [
    {
     "name": "stdout",
     "output_type": "stream",
     "text": [
      "Total money processed: 182632874.03365815\n"
     ]
    }
   ],
   "source": [
    "total_money_processed = df['amount'].sum()\n",
    "print(f\"Total money processed: {total_money_processed}\")"
   ]
  },
  {
   "cell_type": "code",
   "execution_count": 17,
   "id": "d5789827",
   "metadata": {},
   "outputs": [],
   "source": [
    "#What are the top payment modes used?"
   ]
  },
  {
   "cell_type": "code",
   "execution_count": 79,
   "id": "cc3e8e3a",
   "metadata": {},
   "outputs": [
    {
     "name": "stdout",
     "output_type": "stream",
     "text": [
      "Top payment modes used:\n",
      "payment_mode\n",
      "UPI           108114\n",
      "Wallet         58727\n",
      "Card           19455\n",
      "Netbanking     13704\n",
      "Name: count, dtype: int64\n"
     ]
    }
   ],
   "source": [
    "payment_mode_counts = df['payment_mode'].value_counts()\n",
    "print(\"Top payment modes used:\")\n",
    "print(payment_mode_counts)"
   ]
  },
  {
   "cell_type": "code",
   "execution_count": 19,
   "id": "3ef56625",
   "metadata": {},
   "outputs": [],
   "source": [
    "#Which cities/states have the most transactions?"
   ]
  },
  {
   "cell_type": "code",
   "execution_count": 80,
   "id": "3408db42",
   "metadata": {},
   "outputs": [
    {
     "name": "stdout",
     "output_type": "stream",
     "text": [
      "======================================================================\n",
      "              TRANSACTIONS BY CITY/STATE - COMPLETE LIST              \n",
      "======================================================================\n",
      "                                        City/State  Transaction Count\n",
      "                               Mumbai, Maharashtra              11885\n",
      "                                      Delhi, Delhi              11417\n",
      "                              Bangalore, Karnataka               9629\n",
      "                              Hyderabad, Telangana               8555\n",
      "                               Chennai, Tamil Nadu               8129\n",
      "                              Kolkata, West Bengal               7398\n",
      "                                Ahmedabad, Gujarat               7153\n",
      "                                 Pune, Maharashtra               6592\n",
      "                                    Surat, Gujarat               5823\n",
      "                                 Jaipur, Rajasthan               5700\n",
      "                             Kanpur, Uttar Pradesh               5691\n",
      "                            Lucknow, Uttar Pradesh               5546\n",
      "                            Indore, Madhya Pradesh               4451\n",
      "                               Nagpur, Maharashtra               4260\n",
      "                     Visakhapatnam, Andhra Pradesh               4205\n",
      "                             Meerut, Uttar Pradesh               4016\n",
      "                                Jodhpur, Rajasthan               3847\n",
      "                            Bhopal, Madhya Pradesh               3829\n",
      "                           Varanasi, Uttar Pradesh               3816\n",
      "                               Agra, Uttar Pradesh               3786\n",
      "                               Madurai, Tamil Nadu               3595\n",
      "                                 Vadodara, Gujarat               3454\n",
      "                                Thane, Maharashtra               3316\n",
      "                                 Ranchi, Jharkhand               3241\n",
      "                          Allahabad, Uttar Pradesh               3234\n",
      "                          Ghaziabad, Uttar Pradesh               3179\n",
      "                                  Ludhiana, Punjab               3134\n",
      "                                  Amritsar, Punjab               3100\n",
      "                                      Patna, Bihar               3087\n",
      "                           Gwalior, Madhya Pradesh               3036\n",
      "                          Jabalpur, Madhya Pradesh               3012\n",
      "                        Vijayawada, Andhra Pradesh               2951\n",
      "                               Bhubaneswar, Odisha               2793\n",
      "                            Coimbatore, Tamil Nadu               2678\n",
      "                                Faridabad, Haryana               2602\n",
      "                               Nashik, Maharashtra               2556\n",
      "                                   Guwahati, Assam               2427\n",
      "                                   Rajkot, Gujarat               2402\n",
      "                            Chandigarh, Chandigarh               2366\n",
      "                             Dehradun, Uttarakhand               2090\n",
      "                                Dhanbad, Jharkhand               1946\n",
      "                       Srinagar, Jammu and Kashmir               1795\n",
      "                                   Cuttack, Odisha               1746\n",
      "                           Aurangabad, Maharashtra               1666\n",
      "                       Tiruchirappalli, Tamil Nadu               1211\n",
      "                        Thiruvananthapuram, Kerala               1182\n",
      "                                 Salem, Tamil Nadu               1180\n",
      "                                     Kochi, Kerala               1120\n",
      "                                 Agartala, Tripura                532\n",
      "                                   Aizawl, Mizoram                522\n",
      "                                  Kohima, Nagaland                469\n",
      "                               Shillong, Meghalaya                447\n",
      "                                       Panaji, Goa                386\n",
      "                                   Gangtok, Sikkim                376\n",
      "                                   Imphal, Manipur                374\n",
      "                            Puducherry, Puducherry                371\n",
      "Silvassa, Dadra and Nagar Haveli and Daman and Diu                269\n",
      "           Port Blair, Andaman and Nicobar Islands                251\n",
      "                            Kavaratti, Lakshadweep                176\n",
      "======================================================================\n",
      "Total locations: 59\n",
      "Total transactions: 200000\n"
     ]
    }
   ],
   "source": [
    "city_transaction_counts = df['location'].value_counts().reset_index()\n",
    "city_transaction_counts.columns = ['City/State', 'Transaction Count']\n",
    "\n",
    "# Display full table without truncation\n",
    "pd.set_option('display.max_rows', None)\n",
    "pd.set_option('display.max_columns', None)\n",
    "pd.set_option('display.width', None)\n",
    "pd.set_option('display.max_colwidth', None)\n",
    "\n",
    "# Print title and table\n",
    "print(\"=\"*70)\n",
    "print(\"TRANSACTIONS BY CITY/STATE - COMPLETE LIST\".center(70))\n",
    "print(\"=\"*70)\n",
    "print(city_transaction_counts.to_string(index=False))\n",
    "print(\"=\"*70)\n",
    "print(f\"Total locations: {len(city_transaction_counts)}\")\n",
    "print(f\"Total transactions: {city_transaction_counts['Transaction Count'].sum()}\")"
   ]
  },
  {
   "cell_type": "code",
   "execution_count": null,
   "id": "beb32940",
   "metadata": {},
   "outputs": [],
   "source": [
    "#How many fraud vs non-fraud transactions are there?"
   ]
  },
  {
   "cell_type": "code",
   "execution_count": 81,
   "id": "01022819",
   "metadata": {},
   "outputs": [
    {
     "name": "stdout",
     "output_type": "stream",
     "text": [
      "Fraud vs non-fraud transactions:\n",
      "is_fraud\n",
      "0    197917\n",
      "1      2083\n",
      "Name: count, dtype: int64\n"
     ]
    }
   ],
   "source": [
    "# Fraud vs non-fraud transactions\n",
    "fraud_counts = df['is_fraud'].value_counts()\n",
    "print(\"Fraud vs non-fraud transactions:\")\n",
    "print(fraud_counts)"
   ]
  },
  {
   "cell_type": "code",
   "execution_count": 30,
   "id": "97b4350c",
   "metadata": {},
   "outputs": [],
   "source": [
    "#What is the average transaction amount?"
   ]
  },
  {
   "cell_type": "code",
   "execution_count": 82,
   "id": "bcc77856",
   "metadata": {},
   "outputs": [
    {
     "name": "stdout",
     "output_type": "stream",
     "text": [
      "Average transaction amount: 913.1643701682907\n"
     ]
    }
   ],
   "source": [
    "average_transaction_amount = df['amount'].mean()\n",
    "print(f\"Average transaction amount: {average_transaction_amount}\")"
   ]
  },
  {
   "cell_type": "code",
   "execution_count": 32,
   "id": "f35ccd0e",
   "metadata": {},
   "outputs": [],
   "source": [
    "#What is the distribution of transaction amounts? (small/medium/large)"
   ]
  },
  {
   "cell_type": "code",
   "execution_count": 91,
   "id": "d8a5a04a",
   "metadata": {},
   "outputs": [
    {
     "name": "stdout",
     "output_type": "stream",
     "text": [
      "Transaction amount distribution:\n",
      "transaction_size\n",
      "Small     143761\n",
      "Medium     53845\n",
      "Large       2394\n",
      "Name: count, dtype: int64\n"
     ]
    }
   ],
   "source": [
    "bins = [0, 1000, 5000, np.inf]\n",
    "labels = ['Small', 'Medium', 'Large']\n",
    "df['transaction_size'] = pd.cut(df['amount'], bins=bins, labels=labels)\n",
    "\n",
    "transaction_size_distribution = df['transaction_size'].value_counts()\n",
    "print(\"Transaction amount distribution:\")\n",
    "print(transaction_size_distribution)"
   ]
  },
  {
   "cell_type": "code",
   "execution_count": 35,
   "id": "02600acf",
   "metadata": {},
   "outputs": [],
   "source": [
    "#Is there any pattern in fraud transactions by amount? (Do higher amounts get targeted?)"
   ]
  },
  {
   "cell_type": "code",
   "execution_count": 84,
   "id": "b5baa165",
   "metadata": {},
   "outputs": [
    {
     "name": "stdout",
     "output_type": "stream",
     "text": [
      "Fraud transactions amount stats:\n",
      "count     2083.000000\n",
      "mean      2034.799762\n",
      "std       2452.924481\n",
      "min        162.437101\n",
      "25%        687.246349\n",
      "50%       1383.978249\n",
      "75%       2412.955757\n",
      "max      30423.714615\n",
      "Name: amount, dtype: float64\n"
     ]
    }
   ],
   "source": [
    "fraud_transactions = df[df['is_fraud'] == 1]\n",
    "fraud_amount_stats = fraud_transactions['amount'].describe()\n",
    "print(\"Fraud transactions amount stats:\")\n",
    "print(fraud_amount_stats)"
   ]
  },
  {
   "cell_type": "code",
   "execution_count": 37,
   "id": "5b6a6929",
   "metadata": {},
   "outputs": [],
   "source": [
    "#Which device types are most common? Are frauds more on certain devices?"
   ]
  },
  {
   "cell_type": "code",
   "execution_count": 85,
   "id": "3cc8f1fa",
   "metadata": {},
   "outputs": [
    {
     "name": "stdout",
     "output_type": "stream",
     "text": [
      "Transactions by device type:\n",
      "device_type\n",
      "Mobile    149971\n",
      "Web        39968\n",
      "Tablet     10061\n",
      "Name: count, dtype: int64\n",
      "Fraud transactions by device type:\n",
      "device_type\n",
      "Mobile    1549\n",
      "Web        424\n",
      "Tablet     110\n",
      "Name: count, dtype: int64\n"
     ]
    }
   ],
   "source": [
    "# Count of transactions by device type\n",
    "device_type_counts = df['device_type'].value_counts()\n",
    "print(\"Transactions by device type:\")\n",
    "print(device_type_counts)\n",
    "\n",
    "# Check if fraud is more common on certain devices\n",
    "fraud_device_type = fraud_transactions['device_type'].value_counts()\n",
    "print(\"Fraud transactions by device type:\")\n",
    "print(fraud_device_type)\n"
   ]
  },
  {
   "cell_type": "code",
   "execution_count": 39,
   "id": "47ad02da",
   "metadata": {},
   "outputs": [],
   "source": [
    "#Time trend: On which days/times do most transactions happen? (Time Series analysis)"
   ]
  },
  {
   "cell_type": "code",
   "execution_count": 92,
   "id": "426ea909",
   "metadata": {},
   "outputs": [
    {
     "name": "stdout",
     "output_type": "stream",
     "text": [
      "Transactions by day of the week:\n",
      "day_of_week\n",
      "Thursday     28896\n",
      "Monday       28815\n",
      "Wednesday    28810\n",
      "Friday       28464\n",
      "Saturday     28454\n",
      "Tuesday      28321\n",
      "Sunday       28240\n",
      "Name: count, dtype: int64\n",
      "Transactions by hour of the day:\n",
      "hour_of_day\n",
      "1       354\n",
      "2       390\n",
      "3       416\n",
      "4       265\n",
      "5       856\n",
      "6      2130\n",
      "7      4527\n",
      "8      7545\n",
      "9     10183\n",
      "10    11519\n",
      "11    12105\n",
      "12    12029\n",
      "13    11572\n",
      "14    10546\n",
      "15     8975\n",
      "16     8827\n",
      "17    11654\n",
      "18    15492\n",
      "19    16005\n",
      "20    12698\n",
      "21     9253\n",
      "22     7333\n",
      "23    25326\n",
      "Name: count, dtype: int64\n"
     ]
    }
   ],
   "source": [
    "# Extract datetime info\n",
    "df['timestamp'] = pd.to_datetime(df['timestamp'])\n",
    "\n",
    "# Extract day of the week and hour of the day\n",
    "df['day_of_week'] = df['timestamp'].dt.day_name()\n",
    "df['hour_of_day'] = df['timestamp'].dt.hour\n",
    "\n",
    "# Count transactions by day of the week\n",
    "day_of_week_counts = df['day_of_week'].value_counts()\n",
    "print(\"Transactions by day of the week:\")\n",
    "print(day_of_week_counts)\n",
    "\n",
    "# Count transactions by hour of the day\n",
    "hour_of_day_counts = df['hour_of_day'].value_counts().sort_index()\n",
    "print(\"Transactions by hour of the day:\")\n",
    "print(hour_of_day_counts)"
   ]
  },
  {
   "cell_type": "code",
   "execution_count": null,
   "id": "ef4053d8",
   "metadata": {},
   "outputs": [],
   "source": []
  }
 ],
 "metadata": {
  "kernelspec": {
   "display_name": "Python 3 (ipykernel)",
   "language": "python",
   "name": "python3"
  },
  "language_info": {
   "codemirror_mode": {
    "name": "ipython",
    "version": 3
   },
   "file_extension": ".py",
   "mimetype": "text/x-python",
   "name": "python",
   "nbconvert_exporter": "python",
   "pygments_lexer": "ipython3",
   "version": "3.11.7"
  }
 },
 "nbformat": 4,
 "nbformat_minor": 5
}
